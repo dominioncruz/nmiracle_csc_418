{
 "cells": [
  {
   "cell_type": "code",
   "execution_count": 6,
   "id": "df37ef4c-8345-4065-8dec-7b5194caad62",
   "metadata": {},
   "outputs": [],
   "source": [
    "import cv2 as cv"
   ]
  },
  {
   "cell_type": "code",
   "execution_count": 8,
   "id": "cc3a4105-f99a-4f20-acc1-ae6767294966",
   "metadata": {},
   "outputs": [],
   "source": [
    "img = cv.imread('images/test.jpg')"
   ]
  },
  {
   "cell_type": "code",
   "execution_count": 10,
   "id": "dbbf1223-0c73-4c48-b1bc-eb7de64ed926",
   "metadata": {},
   "outputs": [
    {
     "data": {
      "text/plain": [
       "-1"
      ]
     },
     "execution_count": 10,
     "metadata": {},
     "output_type": "execute_result"
    }
   ],
   "source": [
    "cv.imshow('Original image', img)\n",
    "cv.waitKey(0)"
   ]
  },
  {
   "cell_type": "code",
   "execution_count": 12,
   "id": "8bc7e6b5-b070-4055-bbbc-1d46ea8a281b",
   "metadata": {},
   "outputs": [
    {
     "data": {
      "text/plain": [
       "-1"
      ]
     },
     "execution_count": 12,
     "metadata": {},
     "output_type": "execute_result"
    }
   ],
   "source": [
    "gaussian = cv.GaussianBlur(img, (7, 7), 0)\n",
    "cv.imshow('Gaussian blur', gaussian)\n",
    "cv.waitKey(0)"
   ]
  },
  {
   "cell_type": "code",
   "execution_count": 16,
   "id": "2ba90173-d8bb-42b1-af76-49bf2d254880",
   "metadata": {},
   "outputs": [
    {
     "data": {
      "text/plain": [
       "-1"
      ]
     },
     "execution_count": 16,
     "metadata": {},
     "output_type": "execute_result"
    }
   ],
   "source": [
    "median = cv.medianBlur(img, 5)\n",
    "cv.imshow('Median Blurring', median)\n",
    "cv.waitKey(0)"
   ]
  },
  {
   "cell_type": "code",
   "execution_count": 18,
   "id": "e9cd3497-266b-4931-b4ea-14a1ccc3c7e8",
   "metadata": {},
   "outputs": [],
   "source": [
    "bilateral = cv.bilateralFilter(img, 9, 75, 75)\n",
    "cv.imshow('Bilateral blur', bilateral)\n",
    "cv.waitKey(0)\n",
    "cv.destroyAllWindows()"
   ]
  },
  {
   "cell_type": "code",
   "execution_count": 14,
   "id": "a87b345a-c3ab-4161-9366-43b3d88960b4",
   "metadata": {},
   "outputs": [],
   "source": [
    "cv.imwrite('images/sheared_out_y.jpg', sheared_img)\n",
    "cv.waitKey(0)\n",
    "cv.destroyAllWindows()"
   ]
  },
  {
   "cell_type": "code",
   "execution_count": null,
   "id": "8dc31f12-dff5-4e86-b4eb-5dfdf43c126a",
   "metadata": {},
   "outputs": [],
   "source": []
  }
 ],
 "metadata": {
  "kernelspec": {
   "display_name": "Python 3 (ipykernel)",
   "language": "python",
   "name": "python3"
  },
  "language_info": {
   "codemirror_mode": {
    "name": "ipython",
    "version": 3
   },
   "file_extension": ".py",
   "mimetype": "text/x-python",
   "name": "python",
   "nbconvert_exporter": "python",
   "pygments_lexer": "ipython3",
   "version": "3.11.7"
  }
 },
 "nbformat": 4,
 "nbformat_minor": 5
}
