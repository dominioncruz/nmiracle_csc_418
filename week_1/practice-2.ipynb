{
 "cells": [
  {
   "cell_type": "code",
   "execution_count": 1,
   "id": "88ff1a8c-e222-40a5-a858-f7cf040c721b",
   "metadata": {},
   "outputs": [],
   "source": [
    "import cv2"
   ]
  },
  {
   "cell_type": "code",
   "execution_count": null,
   "id": "f6642d50-a28c-4e1e-b85d-9b2961c8f24d",
   "metadata": {},
   "outputs": [],
   "source": [
    "path = 'images/test.jpg'\n",
    "image = cv2.imread(path, 0)\n",
    "\n",
    "window_name = 'Display image'\n",
    "\n",
    "cv2.imshow(window_name, image)\n",
    "\n",
    "cv2.waitKey(0)\n",
    "\n",
    "cv2.destroyAllWindows()"
   ]
  },
  {
   "cell_type": "code",
   "execution_count": null,
   "id": "0be3d858-ea44-400a-93b9-158ce4c59ab8",
   "metadata": {},
   "outputs": [],
   "source": []
  }
 ],
 "metadata": {
  "kernelspec": {
   "display_name": "Python 3",
   "language": "python",
   "name": "python3"
  },
  "language_info": {
   "codemirror_mode": {
    "name": "ipython",
    "version": 3
   },
   "file_extension": ".py",
   "mimetype": "text/x-python",
   "name": "python",
   "nbconvert_exporter": "python",
   "pygments_lexer": "ipython3",
   "version": "3.12.3"
  }
 },
 "nbformat": 4,
 "nbformat_minor": 5
}
