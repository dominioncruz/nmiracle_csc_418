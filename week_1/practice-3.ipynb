{
 "cells": [
  {
   "cell_type": "code",
   "execution_count": 13,
   "id": "61cd89f4-5707-46a4-a95f-3efc137c11ca",
   "metadata": {},
   "outputs": [],
   "source": [
    "import cv2\n",
    "\n",
    "import os\n",
    "\n",
    "image_path = 'images/test.jpg'\n",
    "\n",
    "dir = 'images'\n",
    "\n",
    "img = cv2.imread(image_path, 0)"
   ]
  },
  {
   "cell_type": "code",
   "execution_count": 15,
   "id": "c51dcac8-dd2d-42a7-96fa-eff664de81c9",
   "metadata": {},
   "outputs": [
    {
     "name": "stdout",
     "output_type": "stream",
     "text": [
      "before saving image\n",
      "['.ipynb_checkpoints', 'test.jpg']\n"
     ]
    }
   ],
   "source": [
    "print('before saving image')\n",
    "\n",
    "print(os.listdir(dir))"
   ]
  },
  {
   "cell_type": "code",
   "execution_count": 17,
   "id": "77b67b3e-653a-49a3-aa44-205143167a43",
   "metadata": {},
   "outputs": [
    {
     "name": "stdout",
     "output_type": "stream",
     "text": [
      "after saving image\n",
      "['.ipynb_checkpoints', 'greyscale.jpg', 'test.jpg']\n"
     ]
    }
   ],
   "source": [
    "filename = '{}/greyscale.jpg'.format(dir)\n",
    "\n",
    "cv2.imwrite(filename, img)\n",
    "\n",
    "print('after saving image')\n",
    "\n",
    "print(os.listdir(dir))"
   ]
  },
  {
   "cell_type": "code",
   "execution_count": null,
   "id": "c525c3c7-b3b0-412d-8134-ec5d5b5eda8e",
   "metadata": {},
   "outputs": [],
   "source": []
  }
 ],
 "metadata": {
  "kernelspec": {
   "display_name": "Python 3 (ipykernel)",
   "language": "python",
   "name": "python3"
  },
  "language_info": {
   "codemirror_mode": {
    "name": "ipython",
    "version": 3
   },
   "file_extension": ".py",
   "mimetype": "text/x-python",
   "name": "python",
   "nbconvert_exporter": "python",
   "pygments_lexer": "ipython3",
   "version": "3.11.7"
  }
 },
 "nbformat": 4,
 "nbformat_minor": 5
}
