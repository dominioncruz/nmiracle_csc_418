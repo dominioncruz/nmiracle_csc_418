{
 "cells": [
  {
   "cell_type": "code",
   "execution_count": 26,
   "id": "8aed04e3-a2e8-4ba9-8f0e-e3103b34da26",
   "metadata": {},
   "outputs": [
    {
     "ename": "AttributeError",
     "evalue": "module 'matplotlib' has no attribute 'get_data_path'",
     "output_type": "error",
     "traceback": [
      "\u001b[1;31m---------------------------------------------------------------------------\u001b[0m",
      "\u001b[1;31mAttributeError\u001b[0m                            Traceback (most recent call last)",
      "Cell \u001b[1;32mIn[26], line 2\u001b[0m\n\u001b[0;32m      1\u001b[0m \u001b[38;5;28;01mimport\u001b[39;00m \u001b[38;5;21;01mcv2\u001b[39;00m\n\u001b[1;32m----> 2\u001b[0m \u001b[38;5;28;01mimport\u001b[39;00m \u001b[38;5;21;01mmatplotlib\u001b[39;00m\u001b[38;5;21;01m.\u001b[39;00m\u001b[38;5;21;01mpyplot\u001b[39;00m \u001b[38;5;28;01mas\u001b[39;00m \u001b[38;5;21;01mplt\u001b[39;00m\n\u001b[0;32m      3\u001b[0m \u001b[38;5;28;01mimport\u001b[39;00m \u001b[38;5;21;01mnumpy\u001b[39;00m \u001b[38;5;28;01mas\u001b[39;00m \u001b[38;5;21;01mnp\u001b[39;00m\n",
      "File \u001b[1;32mC:\\ProgramData\\anaconda3\\Lib\\site-packages\\matplotlib\\__init__.py:964\u001b[0m\n\u001b[0;32m    957\u001b[0m     \u001b[38;5;28;01mreturn\u001b[39;00m config\n\u001b[0;32m    960\u001b[0m \u001b[38;5;66;03m# When constructing the global instances, we need to perform certain updates\u001b[39;00m\n\u001b[0;32m    961\u001b[0m \u001b[38;5;66;03m# by explicitly calling the superclass (dict.update, dict.items) to avoid\u001b[39;00m\n\u001b[0;32m    962\u001b[0m \u001b[38;5;66;03m# triggering resolution of _auto_backend_sentinel.\u001b[39;00m\n\u001b[0;32m    963\u001b[0m rcParamsDefault \u001b[38;5;241m=\u001b[39m _rc_params_in_file(\n\u001b[1;32m--> 964\u001b[0m     cbook\u001b[38;5;241m.\u001b[39m_get_data_path(\u001b[38;5;124m\"\u001b[39m\u001b[38;5;124mmatplotlibrc\u001b[39m\u001b[38;5;124m\"\u001b[39m),\n\u001b[0;32m    965\u001b[0m     \u001b[38;5;66;03m# Strip leading comment.\u001b[39;00m\n\u001b[0;32m    966\u001b[0m     transform\u001b[38;5;241m=\u001b[39m\u001b[38;5;28;01mlambda\u001b[39;00m line: line[\u001b[38;5;241m1\u001b[39m:] \u001b[38;5;28;01mif\u001b[39;00m line\u001b[38;5;241m.\u001b[39mstartswith(\u001b[38;5;124m\"\u001b[39m\u001b[38;5;124m#\u001b[39m\u001b[38;5;124m\"\u001b[39m) \u001b[38;5;28;01melse\u001b[39;00m line,\n\u001b[0;32m    967\u001b[0m     fail_on_error\u001b[38;5;241m=\u001b[39m\u001b[38;5;28;01mTrue\u001b[39;00m)\n\u001b[0;32m    968\u001b[0m \u001b[38;5;28mdict\u001b[39m\u001b[38;5;241m.\u001b[39mupdate(rcParamsDefault, rcsetup\u001b[38;5;241m.\u001b[39m_hardcoded_defaults)\n\u001b[0;32m    969\u001b[0m \u001b[38;5;66;03m# Normally, the default matplotlibrc file contains *no* entry for backend (the\u001b[39;00m\n\u001b[0;32m    970\u001b[0m \u001b[38;5;66;03m# corresponding line starts with ##, not #; we fill on _auto_backend_sentinel\u001b[39;00m\n\u001b[0;32m    971\u001b[0m \u001b[38;5;66;03m# in that case.  However, packagers can set a different default backend\u001b[39;00m\n\u001b[0;32m    972\u001b[0m \u001b[38;5;66;03m# (resulting in a normal `#backend: foo` line) in which case we should *not*\u001b[39;00m\n\u001b[0;32m    973\u001b[0m \u001b[38;5;66;03m# fill in _auto_backend_sentinel.\u001b[39;00m\n",
      "File \u001b[1;32mC:\\ProgramData\\anaconda3\\Lib\\site-packages\\matplotlib\\cbook.py:545\u001b[0m, in \u001b[0;36m_get_data_path\u001b[1;34m(*args)\u001b[0m\n\u001b[0;32m    539\u001b[0m \u001b[38;5;28;01mdef\u001b[39;00m \u001b[38;5;21m_get_data_path\u001b[39m(\u001b[38;5;241m*\u001b[39margs):\n\u001b[0;32m    540\u001b[0m \u001b[38;5;250m    \u001b[39m\u001b[38;5;124;03m\"\"\"\u001b[39;00m\n\u001b[0;32m    541\u001b[0m \u001b[38;5;124;03m    Return the `pathlib.Path` to a resource file provided by Matplotlib.\u001b[39;00m\n\u001b[0;32m    542\u001b[0m \n\u001b[0;32m    543\u001b[0m \u001b[38;5;124;03m    ``*args`` specify a path relative to the base data path.\u001b[39;00m\n\u001b[0;32m    544\u001b[0m \u001b[38;5;124;03m    \"\"\"\u001b[39;00m\n\u001b[1;32m--> 545\u001b[0m     \u001b[38;5;28;01mreturn\u001b[39;00m Path(matplotlib\u001b[38;5;241m.\u001b[39mget_data_path(), \u001b[38;5;241m*\u001b[39margs)\n",
      "\u001b[1;31mAttributeError\u001b[0m: module 'matplotlib' has no attribute 'get_data_path'"
     ]
    }
   ],
   "source": [
    "import cv2\n",
    "import matplotlib.pyplot as plt\n",
    "import numpy as np"
   ]
  },
  {
   "cell_type": "code",
   "execution_count": 7,
   "id": "acce140b-3eb6-4972-a96f-1e231b40c6ea",
   "metadata": {},
   "outputs": [],
   "source": [
    "course_mates = {\n",
    "    \"ada\": \"0001\",\n",
    "    \"bimps\": \"0002\",\n",
    "    \"bona\": \"0003\",\n",
    "    \"clem\": \"0004\",\n",
    "    \"dumi\": \"0005\",\n",
    "    \"presh\": \"0006\",\n",
    "    \"small_daniel\": \"0007\",\n",
    "    \"stanis\": \"0008\",\n",
    "    \"steph\": \"0009\",\n",
    "    \"testy\": \"0010\"\n",
    "}"
   ]
  },
  {
   "cell_type": "code",
   "execution_count": 11,
   "id": "27deb05b-7eda-4c2a-b132-73752de615c8",
   "metadata": {},
   "outputs": [],
   "source": [
    "def greyscale(path):\n",
    "    return cv2.imread(path, 0)\n",
    "\n",
    "def im_haunting_you(path):\n",
    "    image_1 = cv2.imread(path)\n",
    "    random_person, random_mat = random.choice(list(course_mates.items()))\n",
    "    image_2 = cv2.imread('course_mates/{}.jpg'.format(random_person))\n",
    "\n",
    "    image_1 = cv2.resize(image_1, (500, 400))\n",
    "    image_2 = cv2.resize(image_2, (500, 400))\n",
    "\n",
    "    return cv2.addWeighted(image_1, 0.3, image_2, 0.6, 0)\n",
    "\n",
    "def see_the_light(path):\n",
    "    brightness = 5\n",
    "    contrast = 1.5\n",
    "    image = cv2.imread(path)\n",
    "\n",
    "    return cv2.addWeighted(\n",
    "        image, contrast, np.zeros(image.shape, image.dtype), 0, brightness\n",
    "    )\n",
    "\n",
    "def opposite_day(path):\n",
    "    image = cv2.imread(path)\n",
    "    return 255 - image\n",
    "\n",
    "def texture_where(path):\n",
    "    image = cv2.imread(path)\n",
    "    return 255 - image\n"
   ]
  },
  {
   "cell_type": "code",
   "execution_count": 13,
   "id": "ebb1d535-c0f2-40a1-a773-ca067b8c7f0d",
   "metadata": {},
   "outputs": [],
   "source": [
    "supported_effects = {\n",
    "    1: greyscale,\n",
    "    2: im_haunting_you,\n",
    "    3: see_the_light,\n",
    "    4: opposite_day,\n",
    "    5: texture_where\n",
    "}   "
   ]
  },
  {
   "cell_type": "code",
   "execution_count": 15,
   "id": "a4ab6fb8-6eed-4742-bfd9-f4e8ce3790db",
   "metadata": {},
   "outputs": [],
   "source": [
    "def validate_access_info(email, password):\n",
    "    if email in course_mates:\n",
    "        return course_mates[email] == password\n",
    "    return False"
   ]
  },
  {
   "cell_type": "code",
   "execution_count": 16,
   "id": "e1af94c2-cbf5-4ef6-8293-906ab4a6dc15",
   "metadata": {},
   "outputs": [
    {
     "name": "stdout",
     "output_type": "stream",
     "text": [
      "The supported effects are: \n",
      "1: greyscale\n",
      "2: im_haunting_you\n",
      "3: see_the_light\n",
      "4: opposite_day\n",
      "5: texture_where\n"
     ]
    }
   ],
   "source": [
    "def list_all_effects():\n",
    "    print(\"The supported effects are: \")\n",
    "    for key, value in supported_effects.items():\n",
    "        print('{}: {}'.format(key, value.__name__"
   ]
  },
  {
   "cell_type": "code",
   "execution_count": 17,
   "id": "cc0b3b23-2942-4940-9b60-d2de7b082c9f",
   "metadata": {},
   "outputs": [],
   "source": [
    "def get_selected_effect():\n",
    "    selected_option = int(input('Select option: '))\n",
    "    if selected_option in supported_effects:\n",
    "        return supported_effects[selected_option]\n",
    "    else: \n",
    "        print('Invalid selection')\n",
    "    "
   ]
  },
  {
   "cell_type": "code",
   "execution_count": 19,
   "id": "588f04cc-80fe-4ac8-8f7c-1b96242ea9ce",
   "metadata": {},
   "outputs": [
    {
     "name": "stdin",
     "output_type": "stream",
     "text": [
      "Please enter your email:  stanis\n",
      "Please enter your password:  0008\n"
     ]
    },
    {
     "name": "stdout",
     "output_type": "stream",
     "text": [
      "The supported effects are: \n",
      "1: greyscale\n",
      "2: im_haunting_you\n",
      "3: see_the_light\n",
      "4: opposite_day\n",
      "5: texture_where\n"
     ]
    },
    {
     "name": "stdin",
     "output_type": "stream",
     "text": [
      "Select option:  4\n"
     ]
    },
    {
     "ename": "NameError",
     "evalue": "name 'plt' is not defined",
     "output_type": "error",
     "traceback": [
      "\u001b[1;31m---------------------------------------------------------------------------\u001b[0m",
      "\u001b[1;31mNameError\u001b[0m                                 Traceback (most recent call last)",
      "Cell \u001b[1;32mIn[19], line 11\u001b[0m\n\u001b[0;32m      9\u001b[0m image \u001b[38;5;241m=\u001b[39m selectedEffect(\u001b[38;5;124m'\u001b[39m\u001b[38;5;124mcourse_mates/\u001b[39m\u001b[38;5;132;01m{}\u001b[39;00m\u001b[38;5;124m.jpg\u001b[39m\u001b[38;5;124m'\u001b[39m\u001b[38;5;241m.\u001b[39mformat(email))\n\u001b[0;32m     10\u001b[0m rgb_version \u001b[38;5;241m=\u001b[39m cv2\u001b[38;5;241m.\u001b[39mcvtColor(image, cv2\u001b[38;5;241m.\u001b[39mCOLOR_BGR2RGB)\n\u001b[1;32m---> 11\u001b[0m plt\u001b[38;5;241m.\u001b[39msubplot(\u001b[38;5;241m1\u001b[39m,\u001b[38;5;241m2\u001b[39m,\u001b[38;5;241m1\u001b[39m)\n\u001b[0;32m     12\u001b[0m plt\u001b[38;5;241m.\u001b[39mtitle(\u001b[38;5;124m'\u001b[39m\u001b[38;5;132;01m{}\u001b[39;00m\u001b[38;5;124m applied \u001b[39m\u001b[38;5;132;01m{}\u001b[39;00m\u001b[38;5;124m'\u001b[39m\u001b[38;5;241m.\u001b[39mformat(email, selectedEffect\u001b[38;5;241m.\u001b[39m\u001b[38;5;18m__name__\u001b[39m))\n\u001b[0;32m     13\u001b[0m plt\u001b[38;5;241m.\u001b[39mimshow(rgb_version)\n",
      "\u001b[1;31mNameError\u001b[0m: name 'plt' is not defined"
     ]
    }
   ],
   "source": [
    "email = str(input(\"Please enter your email: \")).lower().strip()\n",
    "password = str(input(\"Please enter your password: \"))\n",
    "\n",
    "if validate_access_info(email, password):\n",
    "    list_all_effects()\n",
    "    selectedEffect = get_selected_effect()\n",
    "\n",
    "    if selectedEffect:\n",
    "        image = selectedEffect('course_mates/{}.jpg'.format(email))\n",
    "        rgb_version = cv2.cvtColor(image, cv2.COLOR_BGR2RGB)\n",
    "        plt.subplot(1,2,1)\n",
    "        plt.title('{} applied {}'.format(email, selectedEffect.__name__))\n",
    "        plt.imshow(rgb_version)\n",
    "        plt.axis('off')\n",
    "        plt.show()\n",
    "else:\n",
    "    print('Invalid email or password')"
   ]
  },
  {
   "cell_type": "code",
   "execution_count": null,
   "id": "6f9f11da-ef69-4653-8206-4d5e1f207bc0",
   "metadata": {},
   "outputs": [],
   "source": []
  },
  {
   "cell_type": "code",
   "execution_count": null,
   "id": "d716c36a-1bc6-4c11-a1a7-587c900efde7",
   "metadata": {},
   "outputs": [],
   "source": []
  },
  {
   "cell_type": "code",
   "execution_count": null,
   "id": "57f61243-856e-47c6-bb55-db4574bfa537",
   "metadata": {},
   "outputs": [],
   "source": []
  }
 ],
 "metadata": {
  "kernelspec": {
   "display_name": "Python 3 (ipykernel)",
   "language": "python",
   "name": "python3"
  },
  "language_info": {
   "codemirror_mode": {
    "name": "ipython",
    "version": 3
   },
   "file_extension": ".py",
   "mimetype": "text/x-python",
   "name": "python",
   "nbconvert_exporter": "python",
   "pygments_lexer": "ipython3",
   "version": "3.11.7"
  }
 },
 "nbformat": 4,
 "nbformat_minor": 5
}
