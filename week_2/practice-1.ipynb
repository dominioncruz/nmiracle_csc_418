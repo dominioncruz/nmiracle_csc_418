{
 "cells": [
  {
   "cell_type": "code",
   "execution_count": 2,
   "id": "21080296-fe6e-4586-b414-5522abc9b02e",
   "metadata": {},
   "outputs": [],
   "source": [
    "import cv2"
   ]
  },
  {
   "cell_type": "code",
   "execution_count": 39,
   "id": "939f7fdb-759a-43c1-a51b-35c5a2d32324",
   "metadata": {},
   "outputs": [],
   "source": [
    "image = cv2.imread('images/color_space.jpeg')\n",
    "\n",
    "cv2.imshow('Original', image)\n",
    "\n",
    "cv2.waitKey(0)\n",
    "\n",
    "cv2.destroyAllWindows()"
   ]
  },
  {
   "cell_type": "code",
   "execution_count": 43,
   "id": "63067a2a-7e05-4000-86c6-0e39568b6800",
   "metadata": {},
   "outputs": [],
   "source": [
    "b, g, r = cv2.split(image)\n",
    "\n",
    "cv2.imshow('blue', b)\n",
    "\n",
    "cv2.waitKey(0)\n",
    "\n",
    "cv2.imshow('green', g)\n",
    "\n",
    "cv2.waitKey(0)\n",
    "\n",
    "cv2.imshow('red', r)\n",
    "\n",
    "cv2.waitKey(0)\n",
    "\n",
    "cv2.destroyAllWindows()"
   ]
  },
  {
   "cell_type": "code",
   "execution_count": null,
   "id": "3a67880f-dc8d-4a49-8e6f-bf33a7fd8878",
   "metadata": {},
   "outputs": [],
   "source": []
  }
 ],
 "metadata": {
  "kernelspec": {
   "display_name": "Python 3 (ipykernel)",
   "language": "python",
   "name": "python3"
  },
  "language_info": {
   "codemirror_mode": {
    "name": "ipython",
    "version": 3
   },
   "file_extension": ".py",
   "mimetype": "text/x-python",
   "name": "python",
   "nbconvert_exporter": "python",
   "pygments_lexer": "ipython3",
   "version": "3.11.7"
  }
 },
 "nbformat": 4,
 "nbformat_minor": 5
}
