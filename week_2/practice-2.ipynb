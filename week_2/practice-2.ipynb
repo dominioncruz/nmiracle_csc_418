{
 "cells": [
  {
   "cell_type": "code",
   "execution_count": 4,
   "id": "dd62c3e8-1732-4b1a-ae60-e5d9fa690ee8",
   "metadata": {},
   "outputs": [],
   "source": [
    "import cv2"
   ]
  },
  {
   "cell_type": "code",
   "execution_count": 5,
   "id": "b4865938-e343-4484-8b12-abf5313920cb",
   "metadata": {},
   "outputs": [],
   "source": [
    "image_1 = cv2.imread('images/test.jpg')\n",
    "image_2 = cv2.imread('images/test_2.jpg')\n",
    "\n",
    "image_1 = cv2.resize(image_1, (500, 400))\n",
    "image_2 = cv2.resize(image_2, (500, 400))\n"
   ]
  },
  {
   "cell_type": "code",
   "execution_count": 8,
   "id": "0fe0c083-4ced-4e25-9fef-43f4a4365881",
   "metadata": {},
   "outputs": [],
   "source": [
    "addImage = cv2.addWeighted(image_1, 0.5, image_2, 0.5, 0)\n",
    "\n",
    "cv2.imshow('Weighted image', addImage)\n",
    "\n",
    "if cv2.waitKey(0) & 0xf == 27:\n",
    "    cv2.destryAllWindows()"
   ]
  },
  {
   "cell_type": "code",
   "execution_count": null,
   "id": "05d9c1f1-4cac-47c5-ae18-6a048d1974ff",
   "metadata": {},
   "outputs": [],
   "source": []
  }
 ],
 "metadata": {
  "kernelspec": {
   "display_name": "Python 3 (ipykernel)",
   "language": "python",
   "name": "python3"
  },
  "language_info": {
   "codemirror_mode": {
    "name": "ipython",
    "version": 3
   },
   "file_extension": ".py",
   "mimetype": "text/x-python",
   "name": "python",
   "nbconvert_exporter": "python",
   "pygments_lexer": "ipython3",
   "version": "3.11.7"
  }
 },
 "nbformat": 4,
 "nbformat_minor": 5
}
