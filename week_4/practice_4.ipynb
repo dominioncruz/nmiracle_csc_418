{
 "cells": [
  {
   "cell_type": "code",
   "execution_count": 1,
   "id": "b871bf1c",
   "metadata": {},
   "outputs": [],
   "source": [
    "import cv2 as cv\n",
    "import numpy as np"
   ]
  },
  {
   "cell_type": "code",
   "execution_count": 13,
   "id": "4ed1e23f",
   "metadata": {},
   "outputs": [],
   "source": [
    "path = 'images/test_2.jpg'\n",
    "image = cv.imread(path, cv.IMREAD_GRAYSCALE)\n",
    "image = cv.resize(image, (500, 400))"
   ]
  },
  {
   "cell_type": "code",
   "execution_count": 14,
   "id": "575ee0b6",
   "metadata": {},
   "outputs": [],
   "source": [
    "laplacian = cv.Laplacian(image, cv.CV_64F)\n",
    "laplacian = cv.convertScaleAbs(laplacian)\n",
    "\n",
    "cv.imshow('Original', image)\n",
    "cv.imshow('Laplacian edges', laplacian)\n",
    "\n",
    "cv.waitKey(0)\n",
    "\n",
    "cv.destroyAllWindows()"
   ]
  },
  {
   "cell_type": "code",
   "execution_count": null,
   "id": "a1a46870",
   "metadata": {},
   "outputs": [],
   "source": []
  },
  {
   "cell_type": "code",
   "execution_count": null,
   "id": "5257c6e8",
   "metadata": {},
   "outputs": [],
   "source": []
  }
 ],
 "metadata": {
  "kernelspec": {
   "display_name": "Python 3",
   "language": "python",
   "name": "python3"
  },
  "language_info": {
   "codemirror_mode": {
    "name": "ipython",
    "version": 3
   },
   "file_extension": ".py",
   "mimetype": "text/x-python",
   "name": "python",
   "nbconvert_exporter": "python",
   "pygments_lexer": "ipython3",
   "version": "3.12.3"
  }
 },
 "nbformat": 4,
 "nbformat_minor": 5
}
