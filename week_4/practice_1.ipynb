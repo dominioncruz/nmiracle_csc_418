{
 "cells": [
  {
   "cell_type": "code",
   "execution_count": 1,
   "id": "b871bf1c",
   "metadata": {},
   "outputs": [],
   "source": [
    "import cv2 as cv\n",
    "import numpy as np"
   ]
  },
  {
   "cell_type": "code",
   "execution_count": 2,
   "id": "4ed1e23f",
   "metadata": {},
   "outputs": [],
   "source": [
    "path = 'images/test.jpg'\n",
    "image = cv.imread(path, cv.IMREAD_GRAYSCALE)\n",
    "image = cv.resize(image, (500, 400))\n",
    "\n",
    "sobel_x = cv.Sobel(image, cv.CV_64F, 1, 0, ksize=3)\n",
    "sobel_y = cv.Sobel(image, cv.CV_64F, 0, 1, ksize=3)\n",
    "\n",
    "sobel_combined = cv.magnitude(sobel_x, sobel_y)\n",
    "\n",
    "cv.imshow('Original', image)\n",
    "cv.imshow('Sobel edges', np.uint8(sobel_combined))\n",
    "\n",
    "cv.waitKey(0)\n",
    "\n",
    "cv.destroyAllWindows()"
   ]
  },
  {
   "cell_type": "code",
   "execution_count": null,
   "id": "575ee0b6",
   "metadata": {},
   "outputs": [],
   "source": []
  }
 ],
 "metadata": {
  "kernelspec": {
   "display_name": "Python 3",
   "language": "python",
   "name": "python3"
  },
  "language_info": {
   "codemirror_mode": {
    "name": "ipython",
    "version": 3
   },
   "file_extension": ".py",
   "mimetype": "text/x-python",
   "name": "python",
   "nbconvert_exporter": "python",
   "pygments_lexer": "ipython3",
   "version": "3.12.3"
  }
 },
 "nbformat": 4,
 "nbformat_minor": 5
}
