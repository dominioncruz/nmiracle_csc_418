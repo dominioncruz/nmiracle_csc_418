{
 "cells": [
  {
   "cell_type": "code",
   "execution_count": 1,
   "id": "b871bf1c",
   "metadata": {},
   "outputs": [],
   "source": [
    "import cv2 as cv\n",
    "import numpy as np"
   ]
  },
  {
   "cell_type": "code",
   "execution_count": null,
   "id": "4ed1e23f",
   "metadata": {},
   "outputs": [],
   "source": [
    "path = 'images/test.jpg'\n",
    "image = cv.imread(path, cv.IMREAD_GRAYSCALE)\n",
    "image = cv.resize(image, (500, 400))\n",
    "\n"
   ]
  },
  {
   "cell_type": "code",
   "execution_count": 5,
   "id": "575ee0b6",
   "metadata": {},
   "outputs": [],
   "source": [
    "kernel_x = np.array([\n",
    "    [-1, -1, -1],\n",
    "    [0, 0, 0], \n",
    "    [1, 1, 1],\n",
    "])\n",
    "kernel_y = np.transpose(kernel_x)\n",
    "\n",
    "\n",
    "prewitt_x = cv.filter2D(image, -1, kernel_x)\n",
    "prewitt_y = cv.filter2D(image, -1, kernel_y)\n",
    "\n",
    "prewitt_combined = np.sqrt(\n",
    "    np.square(prewitt_x) + np.square(prewitt_y)\n",
    ")\n",
    "\n",
    "cv.imshow('Original', image)\n",
    "cv.imshow('Prewitt edges', np.uint8(prewitt_combined))\n",
    "\n",
    "cv.waitKey(0)\n",
    "\n",
    "cv.destroyAllWindows()"
   ]
  },
  {
   "cell_type": "code",
   "execution_count": null,
   "id": "5257c6e8",
   "metadata": {},
   "outputs": [],
   "source": []
  }
 ],
 "metadata": {
  "kernelspec": {
   "display_name": "Python 3",
   "language": "python",
   "name": "python3"
  },
  "language_info": {
   "codemirror_mode": {
    "name": "ipython",
    "version": 3
   },
   "file_extension": ".py",
   "mimetype": "text/x-python",
   "name": "python",
   "nbconvert_exporter": "python",
   "pygments_lexer": "ipython3",
   "version": "3.12.3"
  }
 },
 "nbformat": 4,
 "nbformat_minor": 5
}
